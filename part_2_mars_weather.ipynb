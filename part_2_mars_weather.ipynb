{
 "cells": [
  {
   "attachments": {},
   "cell_type": "markdown",
   "metadata": {},
   "source": [
    "# Module 11 Challenge\n",
    "## Deliverable 2: Scrape and Analyze Mars Weather Data"
   ]
  },
  {
   "cell_type": "code",
   "execution_count": 4,
   "metadata": {},
   "outputs": [],
   "source": [
    "# Import relevant libraries\n",
    "from splinter import Browser\n",
    "from bs4 import BeautifulSoup\n",
    "import matplotlib.pyplot as plt\n",
    "import pandas as pd\n",
    "import time"
   ]
  },
  {
   "cell_type": "code",
   "execution_count": 5,
   "metadata": {},
   "outputs": [],
   "source": [
    "browser = Browser('chrome')"
   ]
  },
  {
   "attachments": {},
   "cell_type": "markdown",
   "metadata": {},
   "source": [
    "### Step 1: Visit the Website\n",
    "\n",
    "Use automated browsing to visit the [Mars Temperature Data Site](https://static.bc-edx.com/data/web/mars_facts/temperature.html). Inspect the page to identify which elements to scrape.\n",
    "\n",
    "   > **Hint** To identify which elements to scrape, you might want to inspect the page by using Chrome DevTools to discover whether the table contains usable classes.\n"
   ]
  },
  {
   "cell_type": "code",
   "execution_count": 6,
   "metadata": {},
   "outputs": [],
   "source": [
    "# Visit the website\n",
    "# https://static.bc-edx.com/data/web/mars_facts/temperature.html\n",
    "url = \"https://static.bc-edx.com/data/web/mars_facts/temperature.html\"\n",
    "browser.visit(url)\n",
    "\n",
    "# Wait for the page to load\n",
    "time.sleep(2)"
   ]
  },
  {
   "attachments": {},
   "cell_type": "markdown",
   "metadata": {},
   "source": [
    "### Step 2: Scrape the Table\n",
    "\n",
    "Create a Beautiful Soup object and use it to scrape the data in the HTML table.\n",
    "\n",
    "Note that this can also be achieved by using the Pandas `read_html` function. However, use Beautiful Soup here to continue sharpening your web scraping skills."
   ]
  },
  {
   "cell_type": "code",
   "execution_count": 7,
   "metadata": {},
   "outputs": [],
   "source": [
    "# Create a Beautiful Soup Object\n",
    "html = browser.html\n",
    "soup = BeautifulSoup(html, 'html.parser')"
   ]
  },
  {
   "cell_type": "code",
   "execution_count": 8,
   "metadata": {},
   "outputs": [],
   "source": [
    "# Extract all rows of data\n",
    "table = soup.find('table', class_='table')"
   ]
  },
  {
   "attachments": {},
   "cell_type": "markdown",
   "metadata": {},
   "source": [
    "### Step 3: Store the Data\n",
    "\n",
    "Assemble the scraped data into a Pandas DataFrame. The columns should have the same headings as the table on the website. Here’s an explanation of the column headings:\n",
    "\n",
    "* `id`: the identification number of a single transmission from the Curiosity rover\n",
    "* `terrestrial_date`: the date on Earth\n",
    "* `sol`: the number of elapsed sols (Martian days) since Curiosity landed on Mars\n",
    "* `ls`: the solar longitude\n",
    "* `month`: the Martian month\n",
    "* `min_temp`: the minimum temperature, in Celsius, of a single Martian day (sol)\n",
    "* `pressure`: The atmospheric pressure at Curiosity's location"
   ]
  },
  {
   "cell_type": "code",
   "execution_count": 9,
   "metadata": {},
   "outputs": [],
   "source": [
    "# Extract headers\n",
    "headers = [header.text.strip() for header in table.find_all('th')]\n",
    "\n",
    "# Create an empty list\n",
    "rows = []\n",
    "\n",
    "\n",
    "# Loop through the scraped data to create a list of rows\n",
    "for row in table.find_all('tr')[1:]:\n",
    "    cells = [cell.text.strip() for cell in row.find_all('td')]\n",
    "    rows.append(cells)"
   ]
  },
  {
   "cell_type": "code",
   "execution_count": 10,
   "metadata": {},
   "outputs": [],
   "source": [
    "# Create a Pandas DataFrame by using the list of rows and a list of the column names\n",
    "mars_weather_df = pd.DataFrame(rows, columns=headers)"
   ]
  },
  {
   "cell_type": "code",
   "execution_count": 11,
   "metadata": {},
   "outputs": [
    {
     "data": {
      "text/html": [
       "<div>\n",
       "<style scoped>\n",
       "    .dataframe tbody tr th:only-of-type {\n",
       "        vertical-align: middle;\n",
       "    }\n",
       "\n",
       "    .dataframe tbody tr th {\n",
       "        vertical-align: top;\n",
       "    }\n",
       "\n",
       "    .dataframe thead th {\n",
       "        text-align: right;\n",
       "    }\n",
       "</style>\n",
       "<table border=\"1\" class=\"dataframe\">\n",
       "  <thead>\n",
       "    <tr style=\"text-align: right;\">\n",
       "      <th></th>\n",
       "      <th>id</th>\n",
       "      <th>terrestrial_date</th>\n",
       "      <th>sol</th>\n",
       "      <th>ls</th>\n",
       "      <th>month</th>\n",
       "      <th>min_temp</th>\n",
       "      <th>pressure</th>\n",
       "    </tr>\n",
       "  </thead>\n",
       "  <tbody>\n",
       "    <tr>\n",
       "      <th>0</th>\n",
       "      <td>2</td>\n",
       "      <td>2012-08-16</td>\n",
       "      <td>10</td>\n",
       "      <td>155</td>\n",
       "      <td>6</td>\n",
       "      <td>-75.0</td>\n",
       "      <td>739.0</td>\n",
       "    </tr>\n",
       "    <tr>\n",
       "      <th>1</th>\n",
       "      <td>13</td>\n",
       "      <td>2012-08-17</td>\n",
       "      <td>11</td>\n",
       "      <td>156</td>\n",
       "      <td>6</td>\n",
       "      <td>-76.0</td>\n",
       "      <td>740.0</td>\n",
       "    </tr>\n",
       "    <tr>\n",
       "      <th>2</th>\n",
       "      <td>24</td>\n",
       "      <td>2012-08-18</td>\n",
       "      <td>12</td>\n",
       "      <td>156</td>\n",
       "      <td>6</td>\n",
       "      <td>-76.0</td>\n",
       "      <td>741.0</td>\n",
       "    </tr>\n",
       "    <tr>\n",
       "      <th>3</th>\n",
       "      <td>35</td>\n",
       "      <td>2012-08-19</td>\n",
       "      <td>13</td>\n",
       "      <td>157</td>\n",
       "      <td>6</td>\n",
       "      <td>-74.0</td>\n",
       "      <td>732.0</td>\n",
       "    </tr>\n",
       "    <tr>\n",
       "      <th>4</th>\n",
       "      <td>46</td>\n",
       "      <td>2012-08-20</td>\n",
       "      <td>14</td>\n",
       "      <td>157</td>\n",
       "      <td>6</td>\n",
       "      <td>-74.0</td>\n",
       "      <td>740.0</td>\n",
       "    </tr>\n",
       "  </tbody>\n",
       "</table>\n",
       "</div>"
      ],
      "text/plain": [
       "   id terrestrial_date sol   ls month min_temp pressure\n",
       "0   2       2012-08-16  10  155     6    -75.0    739.0\n",
       "1  13       2012-08-17  11  156     6    -76.0    740.0\n",
       "2  24       2012-08-18  12  156     6    -76.0    741.0\n",
       "3  35       2012-08-19  13  157     6    -74.0    732.0\n",
       "4  46       2012-08-20  14  157     6    -74.0    740.0"
      ]
     },
     "execution_count": 11,
     "metadata": {},
     "output_type": "execute_result"
    }
   ],
   "source": [
    "# Confirm DataFrame was created successfully\n",
    "mars_weather_df.head()"
   ]
  },
  {
   "attachments": {},
   "cell_type": "markdown",
   "metadata": {},
   "source": [
    "### Step 4: Prepare Data for Analysis\n",
    "\n",
    "Examine the data types that are currently associated with each column. If necessary, cast (or convert) the data to the appropriate `datetime`, `int`, or `float` data types.\n",
    "\n",
    "  > **Hint** You can use the Pandas `astype` and `to_datetime` methods to accomplish this task.\n"
   ]
  },
  {
   "cell_type": "code",
   "execution_count": 13,
   "metadata": {},
   "outputs": [
    {
     "data": {
      "text/plain": [
       "id                  object\n",
       "terrestrial_date    object\n",
       "sol                 object\n",
       "ls                  object\n",
       "month               object\n",
       "min_temp            object\n",
       "pressure            object\n",
       "dtype: object"
      ]
     },
     "execution_count": 13,
     "metadata": {},
     "output_type": "execute_result"
    }
   ],
   "source": [
    "# Examine data type of each column\n",
    "mars_weather_df.dtypes"
   ]
  },
  {
   "cell_type": "code",
   "execution_count": 14,
   "metadata": {},
   "outputs": [],
   "source": [
    "# Change data types for data analysis\n",
    "mars_weather_df['terrestrial_date'] = pd.to_datetime(mars_weather_df['terrestrial_date'])\n",
    "mars_weather_df['sol'] = mars_weather_df['sol'].astype(int)\n",
    "mars_weather_df['ls'] = mars_weather_df['ls'].astype(int)\n",
    "mars_weather_df['month'] = mars_weather_df['month'].astype(int)\n",
    "mars_weather_df['min_temp'] = mars_weather_df['min_temp'].astype(float)\n",
    "mars_weather_df['pressure'] = mars_weather_df['pressure'].astype(float)"
   ]
  },
  {
   "cell_type": "code",
   "execution_count": 15,
   "metadata": {},
   "outputs": [
    {
     "data": {
      "text/plain": [
       "id                          object\n",
       "terrestrial_date    datetime64[ns]\n",
       "sol                          int32\n",
       "ls                           int32\n",
       "month                        int32\n",
       "min_temp                   float64\n",
       "pressure                   float64\n",
       "dtype: object"
      ]
     },
     "execution_count": 15,
     "metadata": {},
     "output_type": "execute_result"
    }
   ],
   "source": [
    "# Confirm type changes were successful by examining data types again\n",
    "mars_weather_df.dtypes"
   ]
  },
  {
   "attachments": {},
   "cell_type": "markdown",
   "metadata": {},
   "source": [
    "### Step 5: Analyze the Data\n",
    "\n",
    "Analyze your dataset by using Pandas functions to answer the following questions:\n",
    "\n",
    "1. How many months exist on Mars?\n",
    "2. How many Martian (and not Earth) days worth of data exist in the scraped dataset?\n",
    "3. What are the coldest and the warmest months on Mars (at the location of Curiosity)? To answer this question:\n",
    "    * Find the average the minimum daily temperature for all of the months.\n",
    "    * Plot the results as a bar chart.\n",
    "4. Which months have the lowest and the highest atmospheric pressure on Mars? To answer this question:\n",
    "    * Find the average the daily atmospheric pressure of all the months.\n",
    "    * Plot the results as a bar chart.\n",
    "5. About how many terrestrial (Earth) days exist in a Martian year? To answer this question:\n",
    "    * Consider how many days elapse on Earth in the time that Mars circles the Sun once.\n",
    "    * Visually estimate the result by plotting the daily minimum temperature.\n"
   ]
  },
  {
   "cell_type": "code",
   "execution_count": 16,
   "metadata": {},
   "outputs": [
    {
     "name": "stdout",
     "output_type": "stream",
     "text": [
      "Number of months on Mars: 12\n"
     ]
    }
   ],
   "source": [
    "# 1. How many months are there on Mars?\n",
    "mars_months = mars_weather_df['month'].nunique()\n",
    "print(f\"Number of months on Mars: {mars_months}\")"
   ]
  },
  {
   "cell_type": "code",
   "execution_count": 17,
   "metadata": {},
   "outputs": [
    {
     "name": "stdout",
     "output_type": "stream",
     "text": [
      "Number of Martian days of data: 1867\n"
     ]
    }
   ],
   "source": [
    "# 2. How many sols (Martian days) worth of data are there?\n",
    "total_sols = mars_weather_df['sol'].nunique()\n",
    "print(f\"Number of Martian days of data: {total_sols}\")"
   ]
  },
  {
   "cell_type": "code",
   "execution_count": 21,
   "metadata": {},
   "outputs": [
    {
     "name": "stdout",
     "output_type": "stream",
     "text": [
      "average minimum temperature by month:\n",
      "month\n",
      "1    -77.160920\n",
      "2    -79.932584\n",
      "3    -83.307292\n",
      "4    -82.747423\n",
      "5    -79.308725\n",
      "6    -75.299320\n",
      "7    -72.281690\n",
      "8    -68.382979\n",
      "9    -69.171642\n",
      "10   -71.982143\n",
      "11   -71.985507\n",
      "12   -74.451807\n",
      "Name: min_temp, dtype: float64\n"
     ]
    }
   ],
   "source": [
    "# 3. What is the average minimum temperature by month?\n",
    "avg_min_temp = mars_weather_df.groupby('month')['min_temp'].mean()\n",
    "print(f\"average minimum temperature by month:\\n{avg_min_temp}\")"
   ]
  },
  {
   "cell_type": "code",
   "execution_count": 22,
   "metadata": {},
   "outputs": [
    {
     "data": {
      "image/png": "[encoded data removed]",
      "text/plain": [
       "<Figure size 1000x600 with 1 Axes>"
      ]
     },
     "metadata": {},
     "output_type": "display_data"
    }
   ],
   "source": [
    "# Plot the average minimum temperature by month\n",
    "avg_min_temp.plot(kind='bar', title='Average Minimum Temperature by Martian Month', figsize=(10, 6))\n",
    "plt.xlabel('Martian Month')\n",
    "plt.ylabel('Average Minimum Temperature (°C)')\n",
    "plt.show()"
   ]
  },
  {
   "cell_type": "code",
   "execution_count": 23,
   "metadata": {},
   "outputs": [
    {
     "name": "stdout",
     "output_type": "stream",
     "text": [
      "Coldest month: 3 with an average minimum temperature of -83.31°C\n",
      "Hottest month: 8 with an average minimum temperature of -68.38°C\n"
     ]
    }
   ],
   "source": [
    "# Identify the coldest and hottest months in Curiosity's location by sorting the previous graph\n",
    "sorted_min_temp = avg_min_temp.sort_values()\n",
    "coldest_month = sorted_min_temp.idxmin()\n",
    "hottest_month = sorted_min_temp.idxmax()\n",
    "print(f\"Coldest month: {coldest_month} with an average minimum temperature of {sorted_min_temp.min():.2f}°C\")\n",
    "print(f\"Hottest month: {hottest_month} with an average minimum temperature of {sorted_min_temp.max():.2f}°C\")"
   ]
  },
  {
   "cell_type": "code",
   "execution_count": 24,
   "metadata": {},
   "outputs": [
    {
     "name": "stdout",
     "output_type": "stream",
     "text": [
      "average pressure by month:\n",
      "month\n",
      "1     862.488506\n",
      "2     889.455056\n",
      "3     877.322917\n",
      "4     806.329897\n",
      "5     748.557047\n",
      "6     745.054422\n",
      "7     795.105634\n",
      "8     873.829787\n",
      "9     913.305970\n",
      "10    887.312500\n",
      "11    857.014493\n",
      "12    842.156627\n",
      "Name: pressure, dtype: float64\n"
     ]
    }
   ],
   "source": [
    "# 4. What is the average pressure by month?\n",
    "avg_pressure = mars_weather_df.groupby('month')['pressure'].mean()\n",
    "print(f\"average pressure by month:\\n{avg_pressure}\")"
   ]
  },
  {
   "cell_type": "code",
   "execution_count": 25,
   "metadata": {},
   "outputs": [
    {
     "data": {
      "image/png": "[encoded data removed]",
      "text/plain": [
       "<Figure size 1000x600 with 1 Axes>"
      ]
     },
     "metadata": {},
     "output_type": "display_data"
    }
   ],
   "source": [
    "# Plot the average pressure by month\n",
    "avg_pressure.plot(kind='bar', title='Average Pressure by Martian Month', figsize=(10, 6))\n",
    "plt.xlabel('Martian Month')\n",
    "plt.ylabel('Average Pressure')\n",
    "plt.show()"
   ]
  },
  {
   "cell_type": "code",
   "execution_count": 27,
   "metadata": {},
   "outputs": [
    {
     "name": "stdout",
     "output_type": "stream",
     "text": [
      "Lowest pressure month: 6 with an average pressure of 745.05\n",
      "Highest pressure month: 9 with an average pressure of 913.31\n"
     ]
    }
   ],
   "source": [
    "# Identify the lowest and highest pressure months in Curiosity's location by sorting the previous graph\n",
    "sorted_pressure = avg_pressure.sort_values()\n",
    "lowest_pressure_month = sorted_pressure.idxmin()\n",
    "highest_pressure_month = sorted_pressure.idxmax()\n",
    "print(f\"Lowest pressure month: {lowest_pressure_month} with an average pressure of {sorted_pressure.min():.2f}\")\n",
    "print(f\"Highest pressure month: {highest_pressure_month} with an average pressure of {sorted_pressure.max():.2f}\")"
   ]
  },
  {
   "cell_type": "code",
   "execution_count": 28,
   "metadata": {},
   "outputs": [
    {
     "data": {
      "image/png": "[encoded data removed]",
      "text/plain": [
       "<Figure size 640x480 with 1 Axes>"
      ]
     },
     "metadata": {},
     "output_type": "display_data"
    }
   ],
   "source": [
    "# 5. How many terrestrial (Earth) days are there in a Martian year?\n",
    "# Visually estimate the result by plotting the daily minimum temperature of each observation in the data set.\n",
    "plt.plot(mars_weather_df['terrestrial_date'], mars_weather_df['min_temp'])\n",
    "plt.title('Daily Minimum Temperature Over Time')\n",
    "plt.xlabel('Terrestrial Date')\n",
    "plt.ylabel('Minimum Temperature (°C)')\n",
    "plt.show()"
   ]
  },
  {
   "attachments": {},
   "cell_type": "markdown",
   "metadata": {},
   "source": [
    "#### Minimum Temperature\n",
    "\n",
    "Minimum temperatures on Mars had an average of -83.31°C in the month of march.\n",
    "\n",
    "The plot shows some cyclic patterns, suggesting seasonal changes. The coldest temperatures occur during months that look to be what Earth would consider spring time."
   ]
  },
  {
   "attachments": {},
   "cell_type": "markdown",
   "metadata": {},
   "source": [
    "#### Atmospheric Pressure\n",
    "\n",
    "The atmospheric pressure ranged from a minimum average of 745.05 in June and a maximum of 913.31 in September.\n",
    "\n",
    "Atmospheric pressure also exhibits seasonal patterns, with higher pressures aligning with specific temperature cycles, showing potential atmospheric density changes during colder and warmer seasons."
   ]
  },
  {
   "attachments": {},
   "cell_type": "markdown",
   "metadata": {},
   "source": [
    "#### Year Length\n",
    "\n",
    "Based on the data's cyclic pattern and the timeline, there are roughly two full cycles in the dataset spanning 1,010.5 Earth days.\n",
    "\n",
    "Each Martian year appears to last approximately 505 Earth days, close to the known value of ~687 Earth days. The discrepancy might be due to partial coverage or noise in the data."
   ]
  },
  {
   "attachments": {},
   "cell_type": "markdown",
   "metadata": {},
   "source": [
    "### Step 6: Save the Data\n",
    "\n",
    "Export the DataFrame to a CSV file."
   ]
  },
  {
   "cell_type": "code",
   "execution_count": null,
   "metadata": {},
   "outputs": [],
   "source": [
    "# Write the data to a CSV\n",
    "mars_weather_df.to_csv('Outputs/mars_weather.csv', index=False)"
   ]
  },
  {
   "cell_type": "code",
   "execution_count": 30,
   "metadata": {},
   "outputs": [],
   "source": [
    "browser.quit()"
   ]
  },
  {
   "cell_type": "code",
   "execution_count": null,
   "metadata": {},
   "outputs": [],
   "source": []
  }
 ],
 "metadata": {
  "kernelspec": {
   "display_name": "dev",
   "language": "python",
   "name": "python3"
  },
  "language_info": {
   "codemirror_mode": {
    "name": "ipython",
    "version": 3
   },
   "file_extension": ".py",
   "mimetype": "text/x-python",
   "name": "python",
   "nbconvert_exporter": "python",
   "pygments_lexer": "ipython3",
   "version": "3.10.14"
  }
 },
 "nbformat": 4,
 "nbformat_minor": 4
}
